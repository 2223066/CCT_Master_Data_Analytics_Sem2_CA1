{
 "cells": [
  {
   "cell_type": "markdown",
   "id": "20efec7f",
   "metadata": {},
   "source": [
    "<b>Please install the extensions below using anaconda command line:</b>\n",
    "<br/>\n",
    "<br/>\n",
    "pip install jupyter_contrib_nbextensions\n",
    "<br/>jupyter contrib nbextension install --user\n",
    "<br/>jupyter nbextension enable codefolding/main\n",
    "<br/>\n",
    "<br/>\n",
    "pip install pydot"
   ]
  },
  {
   "cell_type": "code",
   "execution_count": 56,
   "id": "d18f3766",
   "metadata": {
    "code_folding": []
   },
   "outputs": [],
   "source": [
    "#Some Basic Imports\n",
    "import matplotlib.pyplot as plt #For Visualization\n",
    "import numpy as np              #For handling arrays\n",
    "import pandas as pd             # For handling data\n",
    "\n",
    "from tensorflow.keras.preprocessing.image import ImageDataGenerator\n",
    "from tensorflow.keras.models import Sequential\n",
    "from tensorflow.keras.layers import Dense, Conv2D, Flatten, MaxPooling2D\n",
    "from tensorflow.keras.callbacks import EarlyStopping, ReduceLROnPlateau\n",
    "from tensorflow.keras.utils import plot_model\n",
    "from sklearn.utils.class_weight import compute_class_weight\n",
    "\n",
    "#Define Directories for train, test & Validation Set\n",
    "train_path = 'D:\\\\NIH Images\\\\images3\\\\train'\n",
    "test_path = 'D:\\\\NIH Images\\\\images3\\\\test'\n",
    "valid_path = 'D:\\\\NIH Images\\\\images3\\\\validation'\n"
   ]
  },
  {
   "cell_type": "code",
   "execution_count": 4,
   "id": "aa6ba4c1",
   "metadata": {},
   "outputs": [],
   "source": [
    "#import shutil\n",
    "\n",
    "#df_xray_images = pd.read_csv('D:\\\\NIH Images\\\\Data_Entry_2017_v2020.csv')\n",
    "#source = 'D:\\\\NIH Images\\\\images\\\\'\n",
    "#destination = 'D:\\\\NIH Images\\\\images\\\\test\\\\'\n",
    "\n",
    "#for ind in df_xray_images.index:\n",
    "    #print(df_xray_images['Finding Labels'][ind])\n",
    "#    if df_xray_images['Finding Labels'][ind] == 'No Finding':\n",
    "#        shutil.move(source + df_xray_images['Image Index'][ind], destination + 'normal\\\\' + df_xray_images['Image Index'][ind])\n",
    "#    else:\n",
    "#        shutil.move(source + df_xray_images['Image Index'][ind], destination + 'disease\\\\' + df_xray_images['Image Index'][ind])\n",
    "\n"
   ]
  },
  {
   "cell_type": "markdown",
   "id": "c1b8486f",
   "metadata": {},
   "source": [
    "### Data Augmentation"
   ]
  },
  {
   "cell_type": "markdown",
   "id": "853aa869",
   "metadata": {},
   "source": [
    "We will increase the size of the image training dataset artificially by performing some Image Augmentation technique.\n",
    "\n",
    "Image Augmentation expands the size of the dataset by creating a modified version of the existing training set images that helps to increase dataset variation and ultimately improve the ability of the model to predict new images.\n",
    "\n",
    "image_gen = ImageDataGenerator(\n",
    "                                  rescale = 1./255,\n",
    "                                  shear_range = 0.2,\n",
    "                                  zoom_range = 0.2,\n",
    "                                  horizontal_flip = True,          \n",
    "                               )\n",
    "Create Image Data Generator for Test/Validation Set\n",
    "test_data_gen = ImageDataGenerator(rescale = 1./255)\n",
    "\n",
    "Using the tensorflow.keras.preprocessing.image library, for the Train Set, we created an Image Data Generator that randomly applies defined parameters to the train set and for the Test & Validation set, we’re just going to rescale them to avoid manipulating the test data beforehand.\n",
    "\n",
    "Defining some of the Image Data Generator parameters:\n",
    "\n",
    "<br/><b>Rescale:</b> Each digital image is created by a pixel with a value between 0 and 255. 0 in black, 255 in white. So rescale the scales array of the original image pixel values to be between [0,1] which makes the images contribute more equally to the overall loss. Otherwise, higher pixel range image results in greater loss and a lower learning rate should be used, lower pixel range image would require a higher learning rate.\n",
    "<br/><b>shear_range: </b>The shape of the image is the transformation of the shear. It fixes one axis and stretches the image at a certain angle known as the angle of the shear.\n",
    "<br/><b>zoom_range: </b>The image is enlarged by a zoom of less than 1.0. The image is more than 1.0 zoomed out of the picture.\n",
    "<br/><b>horizontal_flip: </b>Some images are flipped horizontally at random\n",
    "<br/><b>vertical_flip: </b>Some images are flipped vertically at random\n",
    "<br/><b>roataion_range: </b>Randomly, the image is rotated by some degree in the range 0 to 180.\n",
    "<br/><b>width_shift_range: </b>Shifts the image horizontally.\n",
    "<br/><b>height_shift_range: </b>Shifts the image vertically.\n",
    "<br/><b>brightness_range: </b>brightness of 0.0 corresponds to absolutely no brightness, and 1.0 corresponds to maximum brightness\n",
    "<br/><b>fill_mode: </b> — Fills the missing value of the image to the nearest value or to the wrapped value or to the reflecting value.\n",
    "<br/>These transformation techniques are applied randomly to the images, except for the rescale. All images have been rescaled."
   ]
  },
  {
   "cell_type": "markdown",
   "id": "3bcef220",
   "metadata": {},
   "source": [
    "### Loading Images"
   ]
  },
  {
   "cell_type": "markdown",
   "id": "655738eb",
   "metadata": {},
   "source": [
    "The Image Data Generator has a class known as flow from directory to read the images from folders containing images. Returns the DirectoryIterator typetensorflow.python.keras.preprocessing.image.DirectoryIterator."
   ]
  },
  {
   "cell_type": "markdown",
   "id": "cac97c7a",
   "metadata": {},
   "source": [
    "Some of the parameters it takes in are defined below :-\n",
    "\n",
    "<b>directory:</b> The first parameter used is the path of the train, test & validation folder that we defined earlier.\n",
    "\n",
    "<b>target_size:</b> The target size is the size of your input images, each image will be resized to this size. We have defined the target size earlier as 500 x 500.\n",
    "\n",
    "<b>color_mode:</b> If the image is either black and white or grayscale set to “grayscale” or if the image has three colour channels set to “rgb.” We’re going to work with the grayscale, because it’s the X-Ray images.\n",
    "\n",
    "<b>batch_size:</b> Number of images to be generated by batch from the generator. We defined the batch size as 16 earlier. We choose 16 because the size of the images is too large to handle the RAM.\n",
    "\n",
    "<b>class_mode:</b> Set “binary” if you only have two classes to predict, if you are not set to “categorical,” if you develop an Autoencoder system, both input and output are likely to be the same image, set to “input” in this case. Here we’re going to set it to binary because we’ve only got 2 classes to predict."
   ]
  },
  {
   "cell_type": "markdown",
   "id": "471126bd",
   "metadata": {},
   "source": [
    "Let’s take a look at some of the train set images that we obtained from the Data Augmentation"
   ]
  },
  {
   "cell_type": "markdown",
   "id": "e2abc288",
   "metadata": {},
   "source": [
    "### CNN Architecture"
   ]
  },
  {
   "cell_type": "markdown",
   "id": "19ca47ec",
   "metadata": {},
   "source": [
    "CNN Architecture\n",
    "Things to note before starting to build a CNN model:-\n",
    "\n",
    "Always begin with a lower filter value such as 32 and begin to increase it layer wise.\n",
    "\n",
    "Construct the model with a layer of Conv2D followed by a layer of MaxPooling.\n",
    "\n",
    "The kernel_size is preferred to be odd number like 3x3.\n",
    "\n",
    "Tanh, relu, etc. can be used for activation function, but relu is the most preferred activation function.\n",
    "\n",
    "input_shape takes in image width & height with last dimension as color channel.\n",
    "\n",
    "Flattening the input after CNN layers and adding ANN layers.\n",
    "\n",
    "Use activation function as softmax for the last layer If the problem is more than 2 classes, define units as the total number of \n",
    "classes and use sigmoid for binary classification and set unit to 1."
   ]
  },
  {
   "cell_type": "markdown",
   "id": "1c3da257",
   "metadata": {},
   "source": [
    "<b>We can always experiment with these hyperparameters as there is no fixed value on which we can settle.</b>"
   ]
  },
  {
   "cell_type": "markdown",
   "id": "2912c3c6",
   "metadata": {},
   "source": [
    "Now we’ve developed the CNN model, let’s see in depth what’s going on here"
   ]
  },
  {
   "cell_type": "markdown",
   "id": "5c230ffc",
   "metadata": {},
   "source": [
    "### Interpreting Model Summary"
   ]
  },
  {
   "cell_type": "markdown",
   "id": "277b1e4b",
   "metadata": {},
   "source": [
    "https://pyimagesearch.com/2018/12/31/keras-conv2d-and-convolutional-layers/"
   ]
  },
  {
   "cell_type": "markdown",
   "id": "98e924b8",
   "metadata": {},
   "source": [
    "<b>Filters:</b> \n",
    "Is the number of filters that the convolutional layer will learn.\n",
    "Layers early in the network architecture (i.e., closer to the actual input image) learn fewer convolutional filters while layers deeper in the network (i.e., closer to the output predictions) will learn more filters.\n",
    "Conv2D layers in between will learn more filters than the early Conv2D layers but fewer filters than the layers closer to the output\n",
    "\n",
    "<b>kernel_size: </b> \n",
    "kernel_size is a 2-tuple specifying the width and height of the 2D convolution window.\n",
    "The kernel_size must be an odd integer as well.\n",
    "Typical values for kernel_size include: (1, 1) , (3, 3) , (5, 5) , (7, 7) . It’s rare to see kernel sizes larger than 7×7.\n",
    "So, when do you use each?\n",
    "If your input images are greater than 128×128 (our case) you may choose to use a kernel size > 3 to help (1) learn larger spatial filters and (2) to help reduce volume size.\n",
    "\n",
    "<b>strides:</b> \n",
    "The strides value defaults to (1, 1) implying that:\n",
    " - A given convolutional filter is applied to the current location of the input volume\n",
    " - The filter takes a 1-pixel step to the right and again the filter is applied to the input volume\n",
    " - This process is performed until we reach the far-right border of the volume in which we move our filter one pixel down and then start again from the far left.\n",
    "Typically you’ll leave the strides parameter with the default (1, 1) value; however, you may occasionally increase it to (2, 2) to help reduce the size of the output volume (since the step size of the filter is larger).\n",
    "\n",
    "<b>padding: </b>\n",
    "The padding parameter to the Keras Conv2D class can take on one of two values: valid or same.\n",
    "With the valid parameter the input volume is not zero-padded and the spatial dimensions are allowed to reduce via the natural application of convolution.\n",
    "\n",
    "<b> Activation: </b>\n",
    "Is a function that is added to an artificial neural network to help the network learn complex patterns in the data. When comparing with a neuron-based model in our brains, the activation function is at the end of the day to decide what to do with the next neuron. Since the classification is between 2 classes we are going to use sigmoid activation function for last layer which returns value in the range of 0 to 1. For more than 2 classes we can use softmax activation function."
   ]
  },
  {
   "cell_type": "markdown",
   "id": "1bec03d8",
   "metadata": {},
   "source": [
    "### Fit the model"
   ]
  },
  {
   "cell_type": "markdown",
   "id": "4335f759",
   "metadata": {},
   "source": [
    "<b>Defining Callback list</b>\n",
    "\n",
    "EarlyStopping is called to stop the epochs based on some metric(monitor) and conditions (mode, patience) . It helps to avoid overfitting the model. Over here we are telling to stop based on val_loss metric, we need it to be minimum. patience says that after a minimum val_loss is achieved then after that in next iterations if the val_loss increases in any the 3 iterations then the the training will stop at that epoch.\n",
    "\n",
    "Reduce learning rate when a metric has stopped improving. Models often benefit from reducing the learning rate by a factor of 2–10 once learning stagnates. This callback monitors a quantity and if no improvement is seen for a ‘patience’ number of epochs, the learning rate is reduced\n",
    "\n",
    "early = EarlyStopping(monitor = \"val_loss\", mode = \"min\", patience = 3)\n",
    "\n",
    "learning_rate_reduction = ReduceLROnPlateau(monitor = 'val_loss', patience = 2, verbose = 1,factor = 0.3, min_lr = 0.000001)\n",
    "\n",
    "callbacks_list = [early, learning_rate_reduction]\n",
    "\n",
    "<b>Assigning Class Weights</b>\n",
    "\n",
    "It is good practice to assign class weights for each class. It emphasizes the weight of the minority class in order for the model to learn from all classes equally.\n",
    "\n",
    "weights = compute_class_weight(class_weight = \"balanced\", classes = np.unique(train.classes), y = train.classes)\n",
    "\n",
    "cw = dict(zip(np.unique(train.classes), weights))"
   ]
  },
  {
   "cell_type": "markdown",
   "id": "684d8827",
   "metadata": {},
   "source": [
    "## Trainning"
   ]
  },
  {
   "cell_type": "markdown",
   "id": "b800be03",
   "metadata": {},
   "source": [
    "The parameters we are passing to model.fit are train set, epochs as 25, validation set used to calculate val_loss and val_accuracy, class weights and callback list\n",
    "\n",
    "cnn.fit(train, epochs = 3, validation_data = valid, class_weight = cw, callbacks = callbacks_list)"
   ]
  },
  {
   "cell_type": "markdown",
   "id": "fc6ea1fe",
   "metadata": {},
   "source": [
    "## Evaluate"
   ]
  },
  {
   "cell_type": "markdown",
   "id": "ea17875f",
   "metadata": {},
   "source": [
    "Let’s visualize the progress of all metrics throughout the total epochs lifetime\n",
    "\n",
    "pd.DataFrame(cnn.history.history).plot()"
   ]
  },
  {
   "cell_type": "markdown",
   "id": "ab482478",
   "metadata": {},
   "source": [
    "LOSS FUNCTION \n",
    "\n",
    "Cross-Entropy > 1.00: Terrible\n",
    "<br/>\n",
    "Cross-Entropy > 0.30: Regular. \n",
    "<br/>\n",
    "Cross-Entropy < 0.30: Fine. \n",
    "<br/>\n",
    "Cross-Entropy < 0.05: Perfect. \n",
    "<br/>\n",
    "\n",
    "test_accu = cnn.evaluate(test)\n",
    "print('The testing accuracy is :', test_accu[1] * 100, '%')\n"
   ]
  },
  {
   "cell_type": "markdown",
   "id": "6b1399bd",
   "metadata": {},
   "source": [
    "# CONFIG 8"
   ]
  },
  {
   "cell_type": "markdown",
   "id": "5d2efc9b",
   "metadata": {},
   "source": [
    "<b>Optimizer:</b> SGD\n",
    "<br/><b>Activation:</b> Relu\n",
    "<br/><b>epocs:</b> 6\n",
    "<br/><b>Layers:</b> 9\n",
    "<li><b>Conv2D:</b> 5</li>\n",
    "<li><b>Flatten:</b> 1</li>\n",
    "<li><b>Dense:</b> 3</li>"
   ]
  },
  {
   "cell_type": "code",
   "execution_count": 53,
   "id": "3e0de161",
   "metadata": {
    "code_folding": [
     0
    ]
   },
   "outputs": [
    {
     "name": "stdout",
     "output_type": "stream",
     "text": [
      "Found 4192 images belonging to 2 classes.\n",
      "Found 624 images belonging to 2 classes.\n",
      "Found 1040 images belonging to 2 classes.\n",
      "Epoch 1/6\n",
      "262/262 [==============================] - 305s 1s/step - loss: 0.6782 - accuracy: 0.5988 - val_loss: 0.6331 - val_accuracy: 0.7269 - lr: 0.0100\n",
      "Epoch 2/6\n",
      "262/262 [==============================] - 309s 1s/step - loss: 0.4600 - accuracy: 0.7762 - val_loss: 0.3778 - val_accuracy: 0.8413 - lr: 0.0100\n",
      "Epoch 3/6\n",
      "262/262 [==============================] - 296s 1s/step - loss: 0.3634 - accuracy: 0.8628 - val_loss: 0.6351 - val_accuracy: 0.7106 - lr: 0.0100\n",
      "Epoch 4/6\n",
      "262/262 [==============================] - 297s 1s/step - loss: 0.2468 - accuracy: 0.9008 - val_loss: 0.2389 - val_accuracy: 0.9077 - lr: 0.0100\n",
      "Epoch 5/6\n",
      "262/262 [==============================] - 295s 1s/step - loss: 0.2367 - accuracy: 0.8986 - val_loss: 0.1872 - val_accuracy: 0.9317 - lr: 0.0100\n",
      "Epoch 6/6\n",
      "262/262 [==============================] - 295s 1s/step - loss: 0.2041 - accuracy: 0.9158 - val_loss: 0.1875 - val_accuracy: 0.9288 - lr: 0.0100\n"
     ]
    },
    {
     "data": {
      "text/plain": [
       "<AxesSubplot:>"
      ]
     },
     "execution_count": 53,
     "metadata": {},
     "output_type": "execute_result"
    },
    {
     "data": {
      "image/png": "[encoded data removed]",
      "text/plain": [
       "<Figure size 640x480 with 1 Axes>"
      ]
     },
     "metadata": {},
     "output_type": "display_data"
    }
   ],
   "source": [
    "#The batch refers to the number of training examples utilized in one #iteration\n",
    "batch_size = 16 \n",
    "\n",
    "#The dimension of the images we are going to define is 500x500 img_height = 500\n",
    "img_height = 500\n",
    "img_width = 500\n",
    "\n",
    "image_gen = ImageDataGenerator(\n",
    "                                  rescale = 1./255,\n",
    "                                  shear_range = 0.2,\n",
    "                                  zoom_range = 0.2,\n",
    "                                  horizontal_flip = True,          \n",
    "                               )\n",
    "# Create Image Data Generator for Test/Validation Set\n",
    "test_data_gen = ImageDataGenerator(rescale = 1./255)\n",
    "\n",
    "#LOADING IMAGES\n",
    "train = image_gen.flow_from_directory(\n",
    "      train_path,\n",
    "      target_size = (img_height, img_width),\n",
    "      color_mode = 'grayscale',\n",
    "      class_mode = 'binary',\n",
    "      batch_size = batch_size\n",
    "      )\n",
    "test = test_data_gen.flow_from_directory(\n",
    "      test_path,\n",
    "      target_size = (img_height, img_width),\n",
    "      color_mode = 'grayscale',\n",
    "      shuffle = False, #setting shuffle as False just so we can later compare it with predicted values without having indexing problem \n",
    "      class_mode = 'binary',\n",
    "      batch_size = batch_size\n",
    "      )\n",
    "valid = test_data_gen.flow_from_directory(\n",
    "      valid_path,\n",
    "      target_size = (img_height, img_width),\n",
    "      color_mode = 'grayscale',\n",
    "      class_mode = 'binary', \n",
    "      batch_size = batch_size\n",
    "      )\n",
    "\n",
    "#Adding layers to model\n",
    "cnn = Sequential()\n",
    "cnn.add(Conv2D(32, (3, 3), activation=\"relu\", input_shape=(img_width, img_height, 1)))\n",
    "cnn.add(MaxPooling2D(pool_size = (2, 2)))\n",
    "cnn.add(Conv2D(32, (3, 3), activation=\"relu\", input_shape=(img_width, img_height, 1)))\n",
    "cnn.add(MaxPooling2D(pool_size = (2, 2)))\n",
    "cnn.add(Conv2D(32, (3, 3), activation=\"relu\", input_shape=(img_width, img_height, 1)))\n",
    "cnn.add(MaxPooling2D(pool_size = (2, 2)))\n",
    "cnn.add(Conv2D(64, (3, 3), activation=\"relu\", input_shape=(img_width, img_height, 1)))\n",
    "cnn.add(MaxPooling2D(pool_size = (2, 2)))\n",
    "cnn.add(Conv2D(64, (3, 3), activation=\"relu\", input_shape=(img_width, img_height, 1)))\n",
    "cnn.add(MaxPooling2D(pool_size = (2, 2)))\n",
    "cnn.add(Flatten())\n",
    "cnn.add(Dense(activation = 'relu', units = 128))\n",
    "cnn.add(Dense(activation = 'relu', units = 64))\n",
    "cnn.add(Dense(activation = 'sigmoid', units = 1))\n",
    "cnn.compile(optimizer = 'SGD', loss = 'binary_crossentropy', metrics = ['accuracy'])\n",
    "\n",
    "#Defining Callback list\n",
    "early = EarlyStopping(monitor = \"val_loss\", mode = \"min\", patience = 3)\n",
    "learning_rate_reduction = ReduceLROnPlateau(monitor = 'val_loss', patience = 2, verbose = 1, factor = 0.3, min_lr = 0.000001)\n",
    "callbacks_list = [early, learning_rate_reduction]\n",
    "\n",
    "#Assigning Class Weights\n",
    "weights = compute_class_weight(class_weight = \"balanced\", classes = np.unique(train.classes), y = train.classes)\n",
    "cw = dict(zip(np.unique(train.classes), weights))\n",
    "\n",
    "#Fitting the model\n",
    "cnn.fit(train, epochs = 6, validation_data = valid, class_weight = cw, callbacks = callbacks_list)\n",
    "\n",
    "pd.DataFrame(cnn.history.history).plot()"
   ]
  },
  {
   "cell_type": "code",
   "execution_count": 54,
   "id": "784d3f43",
   "metadata": {},
   "outputs": [
    {
     "name": "stdout",
     "output_type": "stream",
     "text": [
      "39/39 [==============================] - 9s 222ms/step - loss: 0.3053 - accuracy: 0.9006\n",
      "The testing accuracy is : 90.06410241127014 %\n"
     ]
    }
   ],
   "source": [
    "#Testing the model\n",
    "test_accu = cnn.evaluate(test)\n",
    "print('The testing accuracy is :', test_accu[1] * 100, '%')"
   ]
  },
  {
   "cell_type": "markdown",
   "id": "ab6ca767",
   "metadata": {},
   "source": [
    "# CONFIG 9"
   ]
  },
  {
   "cell_type": "markdown",
   "id": "b39a1a85",
   "metadata": {},
   "source": [
    "<b>Optimizer:</b> SGD\n",
    "<br/><b>Activation:</b> Relu\n",
    "<br/><b>epocs:</b> 25\n",
    "<br/><b>Layers:</b> 9\n",
    "<li><b>Conv2D:</b> 5</li>\n",
    "<li><b>Flatten:</b> 1</li>\n",
    "<li><b>Dense:</b> 3</li>"
   ]
  },
  {
   "cell_type": "code",
   "execution_count": null,
   "id": "a7f25362",
   "metadata": {},
   "outputs": [
    {
     "name": "stdout",
     "output_type": "stream",
     "text": [
      "Found 4192 images belonging to 2 classes.\n",
      "Found 624 images belonging to 2 classes.\n",
      "Found 1040 images belonging to 2 classes.\n",
      "Epoch 1/25\n",
      "262/262 [==============================] - 299s 1s/step - loss: 0.6876 - accuracy: 0.4926 - val_loss: 0.7033 - val_accuracy: 0.3000 - lr: 0.0100\n",
      "Epoch 2/25\n",
      "262/262 [==============================] - 297s 1s/step - loss: 0.5411 - accuracy: 0.7080 - val_loss: 0.3863 - val_accuracy: 0.8288 - lr: 0.0100\n",
      "Epoch 3/25\n",
      "262/262 [==============================] - 301s 1s/step - loss: 0.3523 - accuracy: 0.8569 - val_loss: 0.3028 - val_accuracy: 0.8788 - lr: 0.0100\n",
      "Epoch 4/25\n",
      "219/262 [========================>.....] - ETA: 47s - loss: 0.3037 - accuracy: 0.8721"
     ]
    }
   ],
   "source": [
    "#The batch refers to the number of training examples utilized in one #iteration\n",
    "batch_size = 16 \n",
    "\n",
    "#The dimension of the images we are going to define is 500x500 img_height = 500\n",
    "img_height = 500\n",
    "img_width = 500\n",
    "\n",
    "image_gen = ImageDataGenerator(\n",
    "                                  rescale = 1./255,\n",
    "                                  shear_range = 0.2,\n",
    "                                  zoom_range = 0.2,\n",
    "                                  horizontal_flip = True,          \n",
    "                               )\n",
    "# Create Image Data Generator for Test/Validation Set\n",
    "test_data_gen = ImageDataGenerator(rescale = 1./255)\n",
    "\n",
    "#LOADING IMAGES\n",
    "train = image_gen.flow_from_directory(\n",
    "      train_path,\n",
    "      target_size = (img_height, img_width),\n",
    "      color_mode = 'grayscale',\n",
    "      class_mode = 'binary',\n",
    "      batch_size = batch_size\n",
    "      )\n",
    "test = test_data_gen.flow_from_directory(\n",
    "      test_path,\n",
    "      target_size = (img_height, img_width),\n",
    "      color_mode = 'grayscale',\n",
    "      shuffle = False, #setting shuffle as False just so we can later compare it with predicted values without having indexing problem \n",
    "      class_mode = 'binary',\n",
    "      batch_size = batch_size\n",
    "      )\n",
    "valid = test_data_gen.flow_from_directory(\n",
    "      valid_path,\n",
    "      target_size = (img_height, img_width),\n",
    "      color_mode = 'grayscale',\n",
    "      class_mode = 'binary', \n",
    "      batch_size = batch_size\n",
    "      )\n",
    "\n",
    "#Adding layers to model\n",
    "cnn = Sequential()\n",
    "cnn.add(Conv2D(32, (3, 3), activation=\"relu\", input_shape=(img_width, img_height, 1)))\n",
    "cnn.add(MaxPooling2D(pool_size = (2, 2)))\n",
    "cnn.add(Conv2D(32, (3, 3), activation=\"relu\", input_shape=(img_width, img_height, 1)))\n",
    "cnn.add(MaxPooling2D(pool_size = (2, 2)))\n",
    "cnn.add(Conv2D(32, (3, 3), activation=\"relu\", input_shape=(img_width, img_height, 1)))\n",
    "cnn.add(MaxPooling2D(pool_size = (2, 2)))\n",
    "cnn.add(Conv2D(64, (3, 3), activation=\"relu\", input_shape=(img_width, img_height, 1)))\n",
    "cnn.add(MaxPooling2D(pool_size = (2, 2)))\n",
    "cnn.add(Conv2D(64, (3, 3), activation=\"relu\", input_shape=(img_width, img_height, 1)))\n",
    "cnn.add(MaxPooling2D(pool_size = (2, 2)))\n",
    "cnn.add(Flatten())\n",
    "cnn.add(Dense(activation = 'relu', units = 128))\n",
    "cnn.add(Dense(activation = 'relu', units = 64))\n",
    "cnn.add(Dense(activation = 'sigmoid', units = 1))\n",
    "cnn.compile(optimizer = 'SGD', loss = 'binary_crossentropy', metrics = ['accuracy'])\n",
    "\n",
    "#Defining Callback list\n",
    "early = EarlyStopping(monitor = \"val_loss\", mode = \"min\", patience = 3)\n",
    "learning_rate_reduction = ReduceLROnPlateau(monitor = 'val_loss', patience = 2, verbose = 1, factor = 0.3, min_lr = 0.000001)\n",
    "callbacks_list = [early, learning_rate_reduction]\n",
    "\n",
    "#Assigning Class Weights\n",
    "weights = compute_class_weight(class_weight = \"balanced\", classes = np.unique(train.classes), y = train.classes)\n",
    "cw = dict(zip(np.unique(train.classes), weights))\n",
    "\n",
    "#Fitting the model\n",
    "cnn.fit(train, epochs = 25, validation_data = valid, class_weight = cw, callbacks = callbacks_list)\n",
    "\n",
    "pd.DataFrame(cnn.history.history).plot()"
   ]
  },
  {
   "cell_type": "code",
   "execution_count": null,
   "id": "fed60230",
   "metadata": {},
   "outputs": [],
   "source": [
    "#Testing the model\n",
    "test_accu = cnn.evaluate(test)\n",
    "print('The testing accuracy is :', test_accu[1] * 100, '%')"
   ]
  },
  {
   "cell_type": "markdown",
   "id": "b504b37c",
   "metadata": {},
   "source": [
    "# CONFIG 10"
   ]
  },
  {
   "cell_type": "markdown",
   "id": "845066e0",
   "metadata": {},
   "source": [
    "<b>Optimizer:</b> Adam\n",
    "<br/><b>Activation:</b> Sigmoid\n",
    "<br/><b>epocs:</b> 3\n",
    "<br/><b>Layers:</b> 9\n",
    "<li><b>Conv2D:</b> 5</li>\n",
    "<li><b>Flatten:</b> 1</li>\n",
    "<li><b>Dense:</b> 3</li>"
   ]
  },
  {
   "cell_type": "code",
   "execution_count": 48,
   "id": "3a38dbb9",
   "metadata": {
    "code_folding": [],
    "scrolled": false
   },
   "outputs": [
    {
     "name": "stdout",
     "output_type": "stream",
     "text": [
      "Found 4192 images belonging to 2 classes.\n",
      "Found 624 images belonging to 2 classes.\n",
      "Found 1040 images belonging to 2 classes.\n",
      "Epoch 1/25\n",
      "262/262 [==============================] - 310s 1s/step - loss: 0.4251 - accuracy: 0.7626 - val_loss: 0.4317 - val_accuracy: 0.8029 - lr: 0.0010\n",
      "Epoch 2/25\n",
      "262/262 [==============================] - 298s 1s/step - loss: 0.2477 - accuracy: 0.9003 - val_loss: 0.1757 - val_accuracy: 0.9394 - lr: 0.0010\n",
      "Epoch 3/25\n",
      "262/262 [==============================] - 295s 1s/step - loss: 0.2109 - accuracy: 0.9158 - val_loss: 0.2359 - val_accuracy: 0.8990 - lr: 0.0010\n",
      "Epoch 4/25\n",
      "262/262 [==============================] - 295s 1s/step - loss: 0.1895 - accuracy: 0.9234 - val_loss: 0.1651 - val_accuracy: 0.9365 - lr: 0.0010\n",
      "Epoch 5/25\n",
      "262/262 [==============================] - 295s 1s/step - loss: 0.1702 - accuracy: 0.9351 - val_loss: 0.1614 - val_accuracy: 0.9490 - lr: 0.0010\n",
      "Epoch 6/25\n",
      "262/262 [==============================] - 295s 1s/step - loss: 0.1757 - accuracy: 0.9320 - val_loss: 0.1507 - val_accuracy: 0.9500 - lr: 0.0010\n",
      "Epoch 7/25\n",
      "262/262 [==============================] - 294s 1s/step - loss: 0.1649 - accuracy: 0.9370 - val_loss: 0.1622 - val_accuracy: 0.9317 - lr: 0.0010\n",
      "Epoch 8/25\n",
      "262/262 [==============================] - ETA: 0s - loss: 0.1615 - accuracy: 0.9346\n",
      "Epoch 8: ReduceLROnPlateau reducing learning rate to 0.0003000000142492354.\n",
      "262/262 [==============================] - 294s 1s/step - loss: 0.1615 - accuracy: 0.9346 - val_loss: 0.2119 - val_accuracy: 0.9067 - lr: 0.0010\n",
      "Epoch 9/25\n",
      "262/262 [==============================] - 294s 1s/step - loss: 0.1320 - accuracy: 0.9470 - val_loss: 0.1324 - val_accuracy: 0.9529 - lr: 3.0000e-04\n",
      "Epoch 10/25\n",
      "262/262 [==============================] - 294s 1s/step - loss: 0.1220 - accuracy: 0.9513 - val_loss: 0.1212 - val_accuracy: 0.9548 - lr: 3.0000e-04\n",
      "Epoch 11/25\n",
      "262/262 [==============================] - 294s 1s/step - loss: 0.1217 - accuracy: 0.9509 - val_loss: 0.1310 - val_accuracy: 0.9452 - lr: 3.0000e-04\n",
      "Epoch 12/25\n",
      "262/262 [==============================] - 295s 1s/step - loss: 0.1206 - accuracy: 0.9542 - val_loss: 0.1093 - val_accuracy: 0.9577 - lr: 3.0000e-04\n",
      "Epoch 13/25\n",
      "262/262 [==============================] - 295s 1s/step - loss: 0.1159 - accuracy: 0.9552 - val_loss: 0.1069 - val_accuracy: 0.9558 - lr: 3.0000e-04\n",
      "Epoch 14/25\n",
      "262/262 [==============================] - 294s 1s/step - loss: 0.1103 - accuracy: 0.9563 - val_loss: 0.1079 - val_accuracy: 0.9548 - lr: 3.0000e-04\n",
      "Epoch 15/25\n",
      "262/262 [==============================] - ETA: 0s - loss: 0.1129 - accuracy: 0.9561\n",
      "Epoch 15: ReduceLROnPlateau reducing learning rate to 9.000000427477062e-05.\n",
      "262/262 [==============================] - 294s 1s/step - loss: 0.1129 - accuracy: 0.9561 - val_loss: 0.1229 - val_accuracy: 0.9558 - lr: 3.0000e-04\n",
      "Epoch 16/25\n",
      "262/262 [==============================] - 294s 1s/step - loss: 0.0988 - accuracy: 0.9609 - val_loss: 0.1043 - val_accuracy: 0.9548 - lr: 9.0000e-05\n",
      "Epoch 17/25\n",
      "262/262 [==============================] - 294s 1s/step - loss: 0.0940 - accuracy: 0.9609 - val_loss: 0.1001 - val_accuracy: 0.9558 - lr: 9.0000e-05\n",
      "Epoch 18/25\n",
      "262/262 [==============================] - 294s 1s/step - loss: 0.1003 - accuracy: 0.9604 - val_loss: 0.1007 - val_accuracy: 0.9558 - lr: 9.0000e-05\n",
      "Epoch 19/25\n",
      "262/262 [==============================] - ETA: 0s - loss: 0.1063 - accuracy: 0.9597\n",
      "Epoch 19: ReduceLROnPlateau reducing learning rate to 2.700000040931627e-05.\n",
      "262/262 [==============================] - 294s 1s/step - loss: 0.1063 - accuracy: 0.9597 - val_loss: 0.1071 - val_accuracy: 0.9577 - lr: 9.0000e-05\n",
      "Epoch 20/25\n",
      "262/262 [==============================] - 305s 1s/step - loss: 0.0958 - accuracy: 0.9599 - val_loss: 0.1034 - val_accuracy: 0.9567 - lr: 2.7000e-05\n"
     ]
    },
    {
     "data": {
      "text/plain": [
       "<AxesSubplot:>"
      ]
     },
     "execution_count": 48,
     "metadata": {},
     "output_type": "execute_result"
    },
    {
     "data": {
      "image/png": "[encoded data removed]",
      "text/plain": [
       "<Figure size 640x480 with 1 Axes>"
      ]
     },
     "metadata": {},
     "output_type": "display_data"
    }
   ],
   "source": [
    "#The batch refers to the number of training examples utilized in one #iteration\n",
    "batch_size = 16 \n",
    "\n",
    "#The dimension of the images we are going to define is 500x500 img_height = 500\n",
    "img_height = 500\n",
    "img_width = 500\n",
    "\n",
    "image_gen = ImageDataGenerator(\n",
    "                                  rescale = 1./255,\n",
    "                                  shear_range = 0.2,\n",
    "                                  zoom_range = 0.2,\n",
    "                                  horizontal_flip = True,          \n",
    "                               )\n",
    "# Create Image Data Generator for Test/Validation Set\n",
    "test_data_gen = ImageDataGenerator(rescale = 1./255)\n",
    "\n",
    "#LOADING IMAGES\n",
    "train = image_gen.flow_from_directory(\n",
    "      train_path,\n",
    "      target_size = (img_height, img_width),\n",
    "      color_mode = 'grayscale',\n",
    "      class_mode = 'binary',\n",
    "      batch_size = batch_size\n",
    "      )\n",
    "test = test_data_gen.flow_from_directory(\n",
    "      test_path,\n",
    "      target_size = (img_height, img_width),\n",
    "      color_mode = 'grayscale',\n",
    "      shuffle = False, #setting shuffle as False just so we can later compare it with predicted values without having indexing problem \n",
    "      class_mode = 'binary',\n",
    "      batch_size = batch_size\n",
    "      )\n",
    "valid = test_data_gen.flow_from_directory(\n",
    "      valid_path,\n",
    "      target_size = (img_height, img_width),\n",
    "      color_mode = 'grayscale',\n",
    "      class_mode = 'binary', \n",
    "      batch_size = batch_size\n",
    "      )\n",
    "\n",
    "#Adding layers to model\n",
    "cnn = Sequential()\n",
    "cnn.add(Conv2D(32, (3, 3), activation=\"relu\", input_shape=(img_width, img_height, 1)))\n",
    "cnn.add(MaxPooling2D(pool_size = (2, 2)))\n",
    "cnn.add(Conv2D(32, (3, 3), activation=\"relu\", input_shape=(img_width, img_height, 1)))\n",
    "cnn.add(MaxPooling2D(pool_size = (2, 2)))\n",
    "cnn.add(Conv2D(32, (3, 3), activation=\"relu\", input_shape=(img_width, img_height, 1)))\n",
    "cnn.add(MaxPooling2D(pool_size = (2, 2)))\n",
    "cnn.add(Conv2D(64, (3, 3), activation=\"relu\", input_shape=(img_width, img_height, 1)))\n",
    "cnn.add(MaxPooling2D(pool_size = (2, 2)))\n",
    "cnn.add(Conv2D(64, (3, 3), activation=\"relu\", input_shape=(img_width, img_height, 1)))\n",
    "cnn.add(MaxPooling2D(pool_size = (2, 2)))\n",
    "cnn.add(Flatten())\n",
    "cnn.add(Dense(activation = 'relu', units = 128))\n",
    "cnn.add(Dense(activation = 'relu', units = 64))\n",
    "cnn.add(Dense(activation = 'sigmoid', units = 1))\n",
    "cnn.compile(optimizer = 'adam', loss = 'binary_crossentropy', metrics = ['accuracy'])\n",
    "\n",
    "# Hyperparameters of Conv2D\n",
    "Conv2D(\n",
    "    filters = 32,\n",
    "    kernel_size = (3, 3),\n",
    "    strides = (1, 1),\n",
    "    padding = \"valid\",\n",
    "    activation = \"sigmoid\",\n",
    "    input_shape = (500, 500, 1)\n",
    "    )\n",
    "# Hyperparameters of MaxPooling2D \n",
    "MaxPooling2D(pool_size = (2, 2), strides = None, padding = \"valid\")\n",
    "\n",
    "#Defining Callback list\n",
    "early = EarlyStopping(monitor = \"val_loss\", mode = \"min\", patience = 3)\n",
    "learning_rate_reduction = ReduceLROnPlateau(monitor = 'val_loss', patience = 2, verbose = 1, factor = 0.3, min_lr = 0.000001)\n",
    "callbacks_list = [early, learning_rate_reduction]\n",
    "\n",
    "#Assigning Class Weights\n",
    "weights = compute_class_weight(class_weight = \"balanced\", classes = np.unique(train.classes), y = train.classes)\n",
    "cw = dict(zip(np.unique(train.classes), weights))\n",
    "\n",
    "#Fitting the model\n",
    "cnn.fit(train, epochs = 25, validation_data = valid, class_weight = cw, callbacks = callbacks_list)\n",
    "\n",
    "pd.DataFrame(cnn.history.history).plot()"
   ]
  },
  {
   "cell_type": "code",
   "execution_count": 49,
   "id": "17eb9893",
   "metadata": {
    "code_folding": []
   },
   "outputs": [
    {
     "name": "stdout",
     "output_type": "stream",
     "text": [
      "39/39 [==============================] - 12s 317ms/step - loss: 0.2736 - accuracy: 0.9231\n",
      "The testing accuracy is : 92.30769276618958 %\n"
     ]
    }
   ],
   "source": [
    "#Testing the model\n",
    "test_accu = cnn.evaluate(test)\n",
    "print('The testing accuracy is :', test_accu[1] * 100, '%')"
   ]
  },
  {
   "cell_type": "markdown",
   "id": "c2fbefd7",
   "metadata": {},
   "source": [
    "# CONFIG 11"
   ]
  },
  {
   "cell_type": "markdown",
   "id": "0688aa5c",
   "metadata": {},
   "source": [
    "<b>Optimizer:</b> adam\n",
    "<br/><b>Activation:</b> relu\n",
    "<br/><b>epocs:</b> 25\n",
    "<br/><b>Layers:</b> 9\n",
    "<li><b>Conv2D:</b> 5</li>\n",
    "<li><b>Flatten:</b> 1</li>\n",
    "<li><b>Dense:</b> 3</li>\n",
    "\n"
   ]
  },
  {
   "cell_type": "code",
   "execution_count": 51,
   "id": "2f8417ac",
   "metadata": {
    "code_folding": [
     0
    ]
   },
   "outputs": [
    {
     "name": "stdout",
     "output_type": "stream",
     "text": [
      "Found 4192 images belonging to 2 classes.\n",
      "Found 624 images belonging to 2 classes.\n",
      "Found 1040 images belonging to 2 classes.\n",
      "Epoch 1/25\n",
      "262/262 [==============================] - 302s 1s/step - loss: 0.3990 - accuracy: 0.7915 - val_loss: 0.2998 - val_accuracy: 0.8663 - lr: 0.0010\n",
      "Epoch 2/25\n",
      "262/262 [==============================] - 298s 1s/step - loss: 0.2435 - accuracy: 0.8969 - val_loss: 0.2572 - val_accuracy: 0.8837 - lr: 0.0010\n",
      "Epoch 3/25\n",
      "262/262 [==============================] - 297s 1s/step - loss: 0.2369 - accuracy: 0.8991 - val_loss: 0.2543 - val_accuracy: 0.8894 - lr: 0.0010\n",
      "Epoch 4/25\n",
      "262/262 [==============================] - 296s 1s/step - loss: 0.1989 - accuracy: 0.9160 - val_loss: 0.1596 - val_accuracy: 0.9394 - lr: 0.0010\n",
      "Epoch 5/25\n",
      "262/262 [==============================] - 295s 1s/step - loss: 0.2026 - accuracy: 0.9203 - val_loss: 0.2335 - val_accuracy: 0.9077 - lr: 0.0010\n",
      "Epoch 6/25\n",
      "262/262 [==============================] - ETA: 0s - loss: 0.1724 - accuracy: 0.9292\n",
      "Epoch 6: ReduceLROnPlateau reducing learning rate to 0.0003000000142492354.\n",
      "262/262 [==============================] - 296s 1s/step - loss: 0.1724 - accuracy: 0.9292 - val_loss: 0.1939 - val_accuracy: 0.9202 - lr: 0.0010\n",
      "Epoch 7/25\n",
      "262/262 [==============================] - 296s 1s/step - loss: 0.1470 - accuracy: 0.9408 - val_loss: 0.1910 - val_accuracy: 0.9221 - lr: 3.0000e-04\n"
     ]
    },
    {
     "data": {
      "text/plain": [
       "<AxesSubplot:>"
      ]
     },
     "execution_count": 51,
     "metadata": {},
     "output_type": "execute_result"
    },
    {
     "data": {
      "image/png": "[encoded data removed]",
      "text/plain": [
       "<Figure size 640x480 with 1 Axes>"
      ]
     },
     "metadata": {},
     "output_type": "display_data"
    }
   ],
   "source": [
    "#The batch refers to the number of training examples utilized in one #iteration\n",
    "batch_size = 16 \n",
    "\n",
    "#The dimension of the images we are going to define is 500x500 img_height = 500\n",
    "img_height = 500\n",
    "img_width = 500\n",
    "\n",
    "image_gen = ImageDataGenerator(\n",
    "                                  rescale = 1./255,\n",
    "                                  shear_range = 0.2,\n",
    "                                  zoom_range = 0.2,\n",
    "                                  horizontal_flip = True,          \n",
    "                               )\n",
    "# Create Image Data Generator for Test/Validation Set\n",
    "test_data_gen = ImageDataGenerator(rescale = 1./255)\n",
    "\n",
    "#LOADING IMAGES\n",
    "train = image_gen.flow_from_directory(\n",
    "      train_path,\n",
    "      target_size = (img_height, img_width),\n",
    "      color_mode = 'grayscale',\n",
    "      class_mode = 'binary',\n",
    "      batch_size = batch_size\n",
    "      )\n",
    "test = test_data_gen.flow_from_directory(\n",
    "      test_path,\n",
    "      target_size = (img_height, img_width),\n",
    "      color_mode = 'grayscale',\n",
    "      shuffle = False, #setting shuffle as False just so we can later compare it with predicted values without having indexing problem \n",
    "      class_mode = 'binary',\n",
    "      batch_size = batch_size\n",
    "      )\n",
    "valid = test_data_gen.flow_from_directory(\n",
    "      valid_path,\n",
    "      target_size = (img_height, img_width),\n",
    "      color_mode = 'grayscale',\n",
    "      class_mode = 'binary', \n",
    "      batch_size = batch_size\n",
    "      )\n",
    "\n",
    "#Adding layers to model\n",
    "cnn = Sequential()\n",
    "cnn.add(Conv2D(32, (3, 3), activation=\"relu\", input_shape=(img_width, img_height, 1)))\n",
    "cnn.add(MaxPooling2D(pool_size = (2, 2)))\n",
    "cnn.add(Conv2D(32, (3, 3), activation=\"relu\", input_shape=(img_width, img_height, 1)))\n",
    "cnn.add(MaxPooling2D(pool_size = (2, 2)))\n",
    "cnn.add(Conv2D(32, (3, 3), activation=\"relu\", input_shape=(img_width, img_height, 1)))\n",
    "cnn.add(MaxPooling2D(pool_size = (2, 2)))\n",
    "cnn.add(Conv2D(64, (3, 3), activation=\"relu\", input_shape=(img_width, img_height, 1)))\n",
    "cnn.add(MaxPooling2D(pool_size = (2, 2)))\n",
    "cnn.add(Conv2D(64, (3, 3), activation=\"relu\", input_shape=(img_width, img_height, 1)))\n",
    "cnn.add(MaxPooling2D(pool_size = (2, 2)))\n",
    "cnn.add(Flatten())\n",
    "cnn.add(Dense(activation = 'relu', units = 128))\n",
    "cnn.add(Dense(activation = 'relu', units = 64))\n",
    "cnn.add(Dense(activation = 'sigmoid', units = 1))\n",
    "cnn.compile(optimizer = 'adam', loss = 'binary_crossentropy', metrics = ['accuracy'])\n",
    "\n",
    "# Hyperparameters of MaxPooling2D \n",
    "MaxPooling2D(pool_size = (2, 2), strides = None, padding = \"valid\")\n",
    "\n",
    "#Defining Callback list\n",
    "early = EarlyStopping(monitor = \"val_loss\", mode = \"min\", patience = 3)\n",
    "learning_rate_reduction = ReduceLROnPlateau(monitor = 'val_loss', patience = 2, verbose = 1, factor = 0.3, min_lr = 0.000001)\n",
    "callbacks_list = [early, learning_rate_reduction]\n",
    "\n",
    "#Assigning Class Weights\n",
    "weights = compute_class_weight(class_weight = \"balanced\", classes = np.unique(train.classes), y = train.classes)\n",
    "cw = dict(zip(np.unique(train.classes), weights))\n",
    "\n",
    "#Fitting the model\n",
    "cnn.fit(train, epochs = 25, validation_data = valid, class_weight = cw, callbacks = callbacks_list)\n",
    "\n",
    "pd.DataFrame(cnn.history.history).plot()"
   ]
  },
  {
   "cell_type": "code",
   "execution_count": 52,
   "id": "3e7f9698",
   "metadata": {
    "code_folding": []
   },
   "outputs": [
    {
     "name": "stdout",
     "output_type": "stream",
     "text": [
      "39/39 [==============================] - 12s 313ms/step - loss: 0.2349 - accuracy: 0.9167\n",
      "The testing accuracy is : 91.66666865348816 %\n"
     ]
    }
   ],
   "source": [
    "#Testing the model\n",
    "test_accu = cnn.evaluate(test)\n",
    "print('The testing accuracy is :', test_accu[1] * 100, '%')"
   ]
  },
  {
   "cell_type": "markdown",
   "id": "8c23e2f7",
   "metadata": {},
   "source": [
    "# CONFIG 3"
   ]
  },
  {
   "cell_type": "markdown",
   "id": "01ab1719",
   "metadata": {},
   "source": [
    "<b>Optimizer:</b> adam\n",
    "<br/><b>Activation:</b> relu\n",
    "<br/><b>epocs:</b> 25\n",
    "<br/><b>Layers:</b> 9\n",
    "<li><b>Conv2D:</b> 5</li>\n",
    "<li><b>Flatten:</b> 1</li>\n",
    "<li><b>Dense:</b> 3</li>"
   ]
  },
  {
   "cell_type": "code",
   "execution_count": null,
   "id": "1d0f75cc",
   "metadata": {},
   "outputs": [],
   "source": [
    "#The batch refers to the number of training examples utilized in one #iteration\n",
    "batch_size = 16 \n",
    "\n",
    "#The dimension of the images we are going to define is 500x500 img_height = 500\n",
    "img_height = 500\n",
    "img_width = 500\n",
    "\n",
    "# Create Image Data Generator for Train Set\n",
    "image_gen = ImageDataGenerator(\n",
    "                                  rescale = 1./255,\n",
    "                                  shear_range = 0.2,\n",
    "                                  zoom_range = 0.2,\n",
    "                                  horizontal_flip = True,          \n",
    "                               )\n",
    "\n",
    "# Create Image Data Generator for Test/Validation Set\n",
    "test_data_gen = ImageDataGenerator(rescale = 1./255)\n",
    "\n",
    "#LOADING IMAGES\n",
    "train = image_gen.flow_from_directory(\n",
    "      train_path,\n",
    "      target_size = (img_height, img_width),\n",
    "      color_mode = 'grayscale',\n",
    "      class_mode = 'binary',\n",
    "      batch_size = batch_size\n",
    "      )\n",
    "test = test_data_gen.flow_from_directory(\n",
    "      test_path,\n",
    "      target_size = (img_height, img_width),\n",
    "      color_mode = 'grayscale',\n",
    "      shuffle = False, #setting shuffle as False just so we can later compare it with predicted values without having indexing problem \n",
    "      class_mode = 'binary',\n",
    "      batch_size = batch_size\n",
    "      )\n",
    "valid = test_data_gen.flow_from_directory(\n",
    "      valid_path,\n",
    "      target_size = (img_height, img_width),\n",
    "      color_mode = 'grayscale',\n",
    "      class_mode = 'binary', \n",
    "      batch_size = batch_size\n",
    "      )\n",
    "\n",
    "#Adding layers to model\n",
    "cnn = Sequential()\n",
    "cnn.add(Conv2D(32, (3, 3), activation=\"relu\", input_shape=(img_width, img_height, 1)))\n",
    "cnn.add(MaxPooling2D(pool_size = (2, 2)))\n",
    "cnn.add(Conv2D(32, (3, 3), activation=\"relu\", input_shape=(img_width, img_height, 1)))\n",
    "cnn.add(MaxPooling2D(pool_size = (2, 2)))\n",
    "cnn.add(Conv2D(32, (3, 3), activation=\"relu\", input_shape=(img_width, img_height, 1)))\n",
    "cnn.add(MaxPooling2D(pool_size = (2, 2)))\n",
    "cnn.add(Conv2D(64, (3, 3), activation=\"relu\", input_shape=(img_width, img_height, 1)))\n",
    "cnn.add(MaxPooling2D(pool_size = (2, 2)))\n",
    "cnn.add(Conv2D(64, (3, 3), activation=\"relu\", input_shape=(img_width, img_height, 1)))\n",
    "cnn.add(MaxPooling2D(pool_size = (2, 2)))\n",
    "cnn.add(Flatten())\n",
    "cnn.add(Dense(activation = 'relu', units = 128))\n",
    "cnn.add(Dense(activation = 'relu', units = 64))\n",
    "cnn.add(Dense(activation = 'sigmoid', units = 1))\n",
    "cnn.compile(optimizer = 'adam', loss = 'binary_crossentropy', metrics = ['accuracy'])\n",
    "\n",
    "# Hyperparameters of Conv2D\n",
    "Conv2D(\n",
    "    filters = 32,\n",
    "    kernel_size = (3, 3),\n",
    "    strides = (1, 1),\n",
    "    padding = \"valid\",\n",
    "    activation = \"relu\",\n",
    "    input_shape = (img_width, img_height, 1)\n",
    "    )\n",
    "\n",
    "# Hyperparameters of MaxPooling2D \n",
    "MaxPooling2D(pool_size = (2, 2), strides = None, padding=\"valid\")\n",
    "\n",
    "#Defining Callback list\n",
    "early = EarlyStopping(monitor = \"val_loss\", mode = \"min\", patience = 3)\n",
    "learning_rate_reduction = ReduceLROnPlateau(monitor = 'val_loss', patience = 2, verbose = 1, factor = 0.3, min_lr = 0.000001)\n",
    "callbacks_list = [early, learning_rate_reduction]\n",
    "\n",
    "#Assigning Class Weights\n",
    "weights = compute_class_weight(class_weight = \"balanced\", classes = np.unique(train.classes), y = train.classes)\n",
    "cw = dict(zip(np.unique(train.classes), weights))\n",
    "\n",
    "#Fitting the model\n",
    "cnn.fit(train,epochs = 25, validation_data = valid, class_weight = cw, callbacks = callbacks_list)\n",
    "\n",
    "pd.DataFrame(cnn.history.history).plot()"
   ]
  },
  {
   "cell_type": "code",
   "execution_count": null,
   "id": "adf2b878",
   "metadata": {},
   "outputs": [],
   "source": []
  },
  {
   "cell_type": "code",
   "execution_count": null,
   "id": "4e688bab",
   "metadata": {},
   "outputs": [],
   "source": []
  },
  {
   "cell_type": "markdown",
   "id": "b79b1942",
   "metadata": {},
   "source": [
    "# CONFIG X"
   ]
  },
  {
   "cell_type": "markdown",
   "id": "3093d281",
   "metadata": {},
   "source": [
    "<b>Optimizer:</b> adam\n",
    "<br/><b>Activation:</b> relu\n",
    "<br/><b>epocs:</b> 25\n",
    "<br/><b>Layers:</b> 9\n",
    "<li><b>Conv2D:</b> 5</li>\n",
    "<li><b>Flatten:</b> 1</li>\n",
    "<li><b>Dense:</b> 3</li>"
   ]
  },
  {
   "cell_type": "code",
   "execution_count": 29,
   "id": "8297da1f",
   "metadata": {
    "code_folding": [
     60,
     70
    ]
   },
   "outputs": [
    {
     "name": "stdout",
     "output_type": "stream",
     "text": [
      "Found 4192 images belonging to 2 classes.\n",
      "Found 624 images belonging to 2 classes.\n",
      "Found 1040 images belonging to 2 classes.\n",
      "Epoch 1/25\n",
      "262/262 [==============================] - 54s 202ms/step - loss: 0.7267 - accuracy: 0.6028 - val_loss: 0.7296 - val_accuracy: 0.5202 - lr: 0.0010\n",
      "Epoch 2/25\n",
      "262/262 [==============================] - 52s 198ms/step - loss: 0.5916 - accuracy: 0.6863 - val_loss: 0.8950 - val_accuracy: 0.4298 - lr: 0.0010\n",
      "Epoch 3/25\n",
      "262/262 [==============================] - ETA: 0s - loss: 0.5864 - accuracy: 0.6885\n",
      "Epoch 3: ReduceLROnPlateau reducing learning rate to 0.0003000000142492354.\n",
      "262/262 [==============================] - 52s 198ms/step - loss: 0.5864 - accuracy: 0.6885 - val_loss: 0.8112 - val_accuracy: 0.4192 - lr: 0.0010\n",
      "Epoch 4/25\n",
      "262/262 [==============================] - 52s 199ms/step - loss: 0.5193 - accuracy: 0.7507 - val_loss: 0.9133 - val_accuracy: 0.4683 - lr: 3.0000e-04\n"
     ]
    },
    {
     "data": {
      "text/plain": [
       "<AxesSubplot:>"
      ]
     },
     "execution_count": 29,
     "metadata": {},
     "output_type": "execute_result"
    },
    {
     "data": {
      "image/png": "[encoded data removed]",
      "text/plain": [
       "<Figure size 640x480 with 1 Axes>"
      ]
     },
     "metadata": {},
     "output_type": "display_data"
    }
   ],
   "source": [
    "#The batch refers to the number of training examples utilized in one #iteration\n",
    "batch_size = 16 \n",
    "\n",
    "#The dimension of the images we are going to define is 500x500 img_height = 500\n",
    "img_height = 500\n",
    "img_width = 500\n",
    "\n",
    "# Create Image Data Generator for Train Set\n",
    "image_gen = ImageDataGenerator(\n",
    "                                  rescale = 1./255,\n",
    "                                  shear_range = 0.2,\n",
    "                                  zoom_range = 0.2,\n",
    "                                  Horizontal_flip = True,          \n",
    "                               )\n",
    "\n",
    "# Create Image Data Generator for Test/Validation Set\n",
    "test_data_gen = ImageDataGenerator()\n",
    "\n",
    "#LOADING IMAGES\n",
    "train = image_gen.flow_from_directory(\n",
    "      train_path,\n",
    "      target_size = (img_height, img_width),\n",
    "      color_mode = 'grayscale',\n",
    "      class_mode = 'binary',\n",
    "      batch_size = batch_size\n",
    "      )\n",
    "test = test_data_gen.flow_from_directory(\n",
    "      test_path,\n",
    "      target_size = (img_height, img_width),\n",
    "      color_mode = 'grayscale',\n",
    "      shuffle = False, #setting shuffle as False just so we can later compare it with predicted values without having indexing problem \n",
    "      class_mode = 'binary',\n",
    "      batch_size = batch_size\n",
    "      )\n",
    "valid = test_data_gen.flow_from_directory(\n",
    "      valid_path,\n",
    "      target_size = (img_height, img_width),\n",
    "      color_mode = 'grayscale',\n",
    "      class_mode = 'binary', \n",
    "      batch_size = batch_size\n",
    "      )\n",
    "\n",
    "#Adding layers to model\n",
    "cnn = Sequential()\n",
    "cnn.add(Conv2D(32, (3, 3), activation = \"relu\", input_shape = (img_width, img_height, 1)))\n",
    "cnn.add(MaxPooling2D(pool_size = (2, 2)))\n",
    "cnn.add(Conv2D(32, (3, 3), activation = \"relu\", input_shape = (img_width, img_height, 1)))\n",
    "cnn.add(MaxPooling2D(pool_size = (2, 2)))\n",
    "cnn.add(Conv2D(32, (3, 3), activation = \"relu\", input_shape = (img_width, img_height, 1)))\n",
    "cnn.add(MaxPooling2D(pool_size = (2, 2)))\n",
    "cnn.add(Conv2D(64, (3, 3), activation = \"relu\", input_shape = (img_width, img_height, 1)))\n",
    "cnn.add(MaxPooling2D(pool_size = (2, 2)))\n",
    "cnn.add(Conv2D(64, (3, 3), activation = \"relu\", input_shape = (img_width, img_height, 1)))\n",
    "cnn.add(MaxPooling2D(pool_size = (2, 2)))\n",
    "cnn.add(Flatten())\n",
    "cnn.add(Dense(activation = 'relu', units = 128))\n",
    "cnn.add(Dense(activation = 'relu', units = 64))\n",
    "cnn.add(Dense(activation = 'sigmoid', units = 1))\n",
    "cnn.compile(optimizer = 'adam', loss = 'binary_crossentropy', metrics = ['accuracy'])\n",
    "\n",
    "# Hyperparameters of Conv2D\n",
    "#Conv2D(\n",
    "#    filters = 32,\n",
    "#    kernel_size = (3, 3),\n",
    "#    strides = (1, 1),\n",
    "#    padding = \"valid\",\n",
    "#    activation = \"sigmoid\",\n",
    "#    input_shape = (img_height, img_width, 1)\n",
    "#    )\n",
    "\n",
    "# Hyperparameters of MaxPooling2D \n",
    "#MaxPooling2D(pool_size = (2, 2), strides = None, padding=\"valid\")\n",
    "\n",
    "#Defining Callback list\n",
    "early = EarlyStopping(monitor = \"val_loss\", mode = \"min\", patience = 3)\n",
    "learning_rate_reduction = ReduceLROnPlateau(monitor = 'val_loss', patience = 2, verbose = 1, factor = 0.3, min_lr = 0.000001)\n",
    "callbacks_list = [early, learning_rate_reduction]\n",
    "\n",
    "#Assigning Class Weights\n",
    "weights = compute_class_weight(class_weight = \"balanced\", classes = np.unique(train.classes), y = train.classes)\n",
    "cw = dict(zip(np.unique(train.classes), weights))\n",
    "\n",
    "#Fitting the model\n",
    "cnn.fit(train,epochs = 25, validation_data = valid, class_weight = cw, callbacks = callbacks_list)\n",
    "\n",
    "pd.DataFrame(cnn.history.history).plot()"
   ]
  },
  {
   "cell_type": "code",
   "execution_count": 30,
   "id": "627aae5d",
   "metadata": {},
   "outputs": [
    {
     "name": "stdout",
     "output_type": "stream",
     "text": [
      "39/39 [==============================] - 5s 139ms/step - loss: 0.7353 - accuracy: 0.5962\n",
      "The testing accuracy is : 59.61538553237915 %\n"
     ]
    }
   ],
   "source": [
    "#Testing the model\n",
    "test_accu = cnn.evaluate(test)\n",
    "print('The testing accuracy is :', test_accu[1] * 100, '%')"
   ]
  },
  {
   "cell_type": "code",
   "execution_count": null,
   "id": "40bad7ec",
   "metadata": {},
   "outputs": [],
   "source": []
  },
  {
   "cell_type": "code",
   "execution_count": null,
   "id": "395f4660",
   "metadata": {},
   "outputs": [],
   "source": []
  }
 ],
 "metadata": {
  "kernelspec": {
   "display_name": "Python 3 (ipykernel)",
   "language": "python",
   "name": "python3"
  },
  "language_info": {
   "codemirror_mode": {
    "name": "ipython",
    "version": 3
   },
   "file_extension": ".py",
   "mimetype": "text/x-python",
   "name": "python",
   "nbconvert_exporter": "python",
   "pygments_lexer": "ipython3",
   "version": "3.9.17"
  }
 },
 "nbformat": 4,
 "nbformat_minor": 5
}
