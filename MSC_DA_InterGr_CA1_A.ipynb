{
 "cells": [
  {
   "cell_type": "code",
   "execution_count": 2,
   "id": "0c46262e",
   "metadata": {},
   "outputs": [],
   "source": [
    "import numpy as np # linear algebra\n",
    "import pandas as pd # data processing, CSV file I/O (e.g. pd.read_csv)\n",
    "import os\n",
    "from glob import glob\n",
    "%matplotlib inline\n",
    "import matplotlib.pyplot as plt"
   ]
  },
  {
   "cell_type": "code",
   "execution_count": 70,
   "id": "9a09cc90",
   "metadata": {
    "scrolled": true
   },
   "outputs": [
    {
     "name": "stderr",
     "output_type": "stream",
     "text": [
      "C:\\Users\\Dorne\\AppData\\Local\\Temp\\ipykernel_8500\\1660211660.py:11: FutureWarning: The frame.append method is deprecated and will be removed from pandas in a future version. Use pandas.concat instead.\n",
      "  df_path = df.append(lst_dict)\n"
     ]
    },
    {
     "data": {
      "text/html": [
       "<div>\n",
       "<style scoped>\n",
       "    .dataframe tbody tr th:only-of-type {\n",
       "        vertical-align: middle;\n",
       "    }\n",
       "\n",
       "    .dataframe tbody tr th {\n",
       "        vertical-align: top;\n",
       "    }\n",
       "\n",
       "    .dataframe thead th {\n",
       "        text-align: right;\n",
       "    }\n",
       "</style>\n",
       "<table border=\"1\" class=\"dataframe\">\n",
       "  <thead>\n",
       "    <tr style=\"text-align: right;\">\n",
       "      <th></th>\n",
       "      <th>Image Index</th>\n",
       "      <th>Path</th>\n",
       "    </tr>\n",
       "  </thead>\n",
       "  <tbody>\n",
       "    <tr>\n",
       "      <th>340460</th>\n",
       "      <td>00010953_012.png</td>\n",
       "      <td>D:\\NIH Images\\NIH Images00010953_012.png</td>\n",
       "    </tr>\n",
       "    <tr>\n",
       "      <th>581990</th>\n",
       "      <td>00017930_004.png</td>\n",
       "      <td>D:\\NIH Images\\NIH Images00017930_004.png</td>\n",
       "    </tr>\n",
       "    <tr>\n",
       "      <th>506537</th>\n",
       "      <td>00015641_007.png</td>\n",
       "      <td>D:\\NIH Images\\NIH Images00015641_007.png</td>\n",
       "    </tr>\n",
       "    <tr>\n",
       "      <th>9186</th>\n",
       "      <td>00000281_001.png</td>\n",
       "      <td>D:\\NIH Images\\NIH Images00000281_001.png</td>\n",
       "    </tr>\n",
       "    <tr>\n",
       "      <th>720043</th>\n",
       "      <td>00022367_001.png</td>\n",
       "      <td>D:\\NIH Images\\NIH Images00022367_001.png</td>\n",
       "    </tr>\n",
       "    <tr>\n",
       "      <th>771681</th>\n",
       "      <td>00025393_004.png</td>\n",
       "      <td>D:\\NIH Images\\NIH Images00025393_004.png</td>\n",
       "    </tr>\n",
       "    <tr>\n",
       "      <th>47571</th>\n",
       "      <td>00001602_000.png</td>\n",
       "      <td>D:\\NIH Images\\NIH Images00001602_000.png</td>\n",
       "    </tr>\n",
       "    <tr>\n",
       "      <th>465377</th>\n",
       "      <td>00014389_023.png</td>\n",
       "      <td>D:\\NIH Images\\NIH Images00014389_023.png</td>\n",
       "    </tr>\n",
       "    <tr>\n",
       "      <th>560457</th>\n",
       "      <td>00017244_000.png</td>\n",
       "      <td>D:\\NIH Images\\NIH Images00017244_000.png</td>\n",
       "    </tr>\n",
       "    <tr>\n",
       "      <th>828877</th>\n",
       "      <td>00027652_009.png</td>\n",
       "      <td>D:\\NIH Images\\NIH Images00027652_009.png</td>\n",
       "    </tr>\n",
       "  </tbody>\n",
       "</table>\n",
       "</div>"
      ],
      "text/plain": [
       "             Image Index                                      Path\n",
       "340460  00010953_012.png  D:\\NIH Images\\NIH Images00010953_012.png\n",
       "581990  00017930_004.png  D:\\NIH Images\\NIH Images00017930_004.png\n",
       "506537  00015641_007.png  D:\\NIH Images\\NIH Images00015641_007.png\n",
       "9186    00000281_001.png  D:\\NIH Images\\NIH Images00000281_001.png\n",
       "720043  00022367_001.png  D:\\NIH Images\\NIH Images00022367_001.png\n",
       "771681  00025393_004.png  D:\\NIH Images\\NIH Images00025393_004.png\n",
       "47571   00001602_000.png  D:\\NIH Images\\NIH Images00001602_000.png\n",
       "465377  00014389_023.png  D:\\NIH Images\\NIH Images00014389_023.png\n",
       "560457  00017244_000.png  D:\\NIH Images\\NIH Images00017244_000.png\n",
       "828877  00027652_009.png  D:\\NIH Images\\NIH Images00027652_009.png"
      ]
     },
     "execution_count": 70,
     "metadata": {},
     "output_type": "execute_result"
    }
   ],
   "source": [
    "#Open the labeled dataset - dataset with the diagnosis \n",
    "df_xray_images = pd.read_csv('Data_Entry_2017.csv')\n",
    "\n",
    "# create a list to import the name and path of all x-ray images\n",
    "lst = []\n",
    "for file in os.listdir(\"D:\\\\NIH Images\\\\NIH Images\"):\n",
    "    #proccess all images in the directory to get the name and path\n",
    "    lst.append({'Image Index': file, 'Path': \"D:\\\\NIH Images\\\\NIH Images\" + file})\n",
    "\n",
    "#convert a list on dataframe\n",
    "df_path = df.append(lst_dict)\n",
    "#df_path.head()\n",
    "\n",
    "#inner merge based on the filename\n",
    "df_xray_images = df_xray_images.merge(df_path, how = 'inner', on = ['Image Index', 'Image Index'])\n",
    "\n",
    "df_xray_images.iloc[:, [0, 11]].sample(10)\n"
   ]
  },
  {
   "cell_type": "markdown",
   "id": "a8d4d5ae",
   "metadata": {},
   "source": [
    "#### Preprocessing Labels"
   ]
  },
  {
   "cell_type": "markdown",
   "id": "07594217",
   "metadata": {},
   "source": [
    "Here we take the labels and make them into a more clear format. The primary step is to see the distribution of findings and then to convert them to simple binary labels"
   ]
  },
  {
   "cell_type": "code",
   "execution_count": 75,
   "id": "7c069946",
   "metadata": {},
   "outputs": [
    {
     "data": {
      "text/plain": [
       "No Finding                  482888\n",
       "Infiltration                 76376\n",
       "Atelectasis                  33720\n",
       "Effusion                     31640\n",
       "Nodule                       21640\n",
       "Pneumothorax                 17552\n",
       "Mass                         17112\n",
       "Effusion|Infiltration        12824\n",
       "Atelectasis|Infiltration     10800\n",
       "Consolidation                10480\n",
       "Name: Finding Labels, dtype: int64"
      ]
     },
     "execution_count": 75,
     "metadata": {},
     "output_type": "execute_result"
    }
   ],
   "source": [
    "label_counts = df_xray_images['Finding Labels'].value_counts()\n",
    "label_counts.head(10)"
   ]
  },
  {
   "cell_type": "code",
   "execution_count": null,
   "id": "b385974e",
   "metadata": {},
   "outputs": [],
   "source": [
    "all_xray_df['Finding Labels'] = all_xray_df['Finding Labels'].map(lambda x: x.replace('No Finding', ''))\n",
    "from itertools import chain\n",
    "all_labels = np.unique(list(chain(*all_xray_df['Finding Labels'].map(lambda x: x.split('|')).tolist())))\n",
    "all_labels = [x for x in all_labels if len(x)>0]\n",
    "print('All Labels ({}): {}'.format(len(all_labels), all_labels))\n",
    "for c_label in all_labels:\n",
    "    if len(c_label)>1: # leave out empty labels\n",
    "        all_xray_df[c_label] = all_xray_df['Finding Labels'].map(lambda finding: 1.0 if c_label in finding else 0)\n",
    "all_xray_df.sample(3)"
   ]
  }
 ],
 "metadata": {
  "kernelspec": {
   "display_name": "Python 3 (ipykernel)",
   "language": "python",
   "name": "python3"
  },
  "language_info": {
   "codemirror_mode": {
    "name": "ipython",
    "version": 3
   },
   "file_extension": ".py",
   "mimetype": "text/x-python",
   "name": "python",
   "nbconvert_exporter": "python",
   "pygments_lexer": "ipython3",
   "version": "3.9.17"
  }
 },
 "nbformat": 4,
 "nbformat_minor": 5
}
